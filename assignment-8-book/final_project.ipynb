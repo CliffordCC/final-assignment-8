{
 "cells": [
  {
   "cell_type": "markdown",
   "metadata": {},
   "source": [
    "# Final Project"
   ]
  },
  {
   "cell_type": "markdown",
   "metadata": {},
   "source": [
    "# Exploratory data analysis of the Disney dataset"
   ]
  },
  {
   "cell_type": "markdown",
   "metadata": {},
   "source": [
    "Clifford Childs created December 20th 2021"
   ]
  },
  {
   "cell_type": "markdown",
   "metadata": {},
   "source": [
    "## Forward\n",
    "\n",
    "This notebook will be exploring `Disney` dataset. This document will answer some general questions about the dataset while also demonstating the Python compencies I have developed through the 8 modules of Python for Data Science.\n",
    "\n"
   ]
  },
  {
   "cell_type": "markdown",
   "metadata": {},
   "source": [
    "# Introduction\n",
    "\n",
    "## Question(s) of interests\n",
    "\n",
    "In the analysis I will be investigating questions related to the revenue and disney films Disney datasets.I will be exploring information related to movie revenue by voice actor. I am primarily interested in looking films that were made after 1999 because I believe that data will me more relavent to the present day film industry. I believe that acotors who on average gross more revenue per film will appear in more films since disney will be more interested in casting them.\n",
    "\n",
    "## Dataset description \n",
    "\n",
    "The below descripitions were taken directly from the [website]() where the datasets were originally obtained.\n",
    "\n",
    "\"All Disney movies with their release dates, genre, rating, total gross and inflation adjusted gross(2016).\n",
    "Disney has produced many movies, this data has all Disney movies till 2016.\"\n",
    "\n",
    "\n",
    "The `Disney` dataset is composed of 5 tables `disney_movies_total_gross.csv`, `disney_revenue_1991-2016.csv`, `disney-characters.csv`, `disney-directors.csv`, `disney-voice-actors.csv`. Each table is stored as a `.csv` file. The data set contains the release dates, genre, rating, total gross and inflation adjust gross of all disney movies made to to 2016; disney reveunue by source from 1991 to 2016; disney's characters catagorized by charater type (villian or hero) and including columns for films starred in, films release dates and film theme song; a list of disney directors and the films they directed; and, a list of all disney voice actors and the films the appeared in.\n"
   ]
  },
  {
   "cell_type": "markdown",
   "metadata": {},
   "source": [
    "# Methods and Results"
   ]
  },
  {
   "cell_type": "markdown",
   "metadata": {},
   "source": [
    "Since I am interested in revenue by film and revenue by voice actor, I will only need to import `disney_movies_total_gross.csv` and `disney-voice-actors.csv` tables.\n",
    "\n",
    "I will start by my importing the relavent data frames some proform some visualizations to give me an overview of the types and data we will be working with and to identify and data wrangling that needs to be done."
   ]
  },
  {
   "cell_type": "code",
   "execution_count": 1,
   "metadata": {},
   "outputs": [],
   "source": [
    "#import data libaries that will need for this project\n",
    "import altair as alt\n",
    "import pandas as pd\n",
    "\n",
    "#import required datatables and parse date field\n",
    "movie_rev = pd.read_csv('data/disney_movies_total_gross.csv',  parse_dates = ['release_date'])\n",
    "actor = pd.read_csv('data/disney-voice-actors.csv')"
   ]
  },
  {
   "cell_type": "markdown",
   "metadata": {},
   "source": [
    "Here is what the tables look like:"
   ]
  },
  {
   "cell_type": "code",
   "execution_count": 2,
   "metadata": {},
   "outputs": [
    {
     "data": {
      "text/html": [
       "<div>\n",
       "<style scoped>\n",
       "    .dataframe tbody tr th:only-of-type {\n",
       "        vertical-align: middle;\n",
       "    }\n",
       "\n",
       "    .dataframe tbody tr th {\n",
       "        vertical-align: top;\n",
       "    }\n",
       "\n",
       "    .dataframe thead th {\n",
       "        text-align: right;\n",
       "    }\n",
       "</style>\n",
       "<table border=\"1\" class=\"dataframe\">\n",
       "  <thead>\n",
       "    <tr style=\"text-align: right;\">\n",
       "      <th></th>\n",
       "      <th>index</th>\n",
       "      <th>movie_title</th>\n",
       "      <th>release_date</th>\n",
       "      <th>genre</th>\n",
       "      <th>MPAA_rating</th>\n",
       "      <th>total_gross</th>\n",
       "      <th>inflation_adjusted_gross</th>\n",
       "    </tr>\n",
       "  </thead>\n",
       "  <tbody>\n",
       "    <tr>\n",
       "      <th>0</th>\n",
       "      <td>0</td>\n",
       "      <td>Snow White and the Seven Dwarfs</td>\n",
       "      <td>1937-12-21</td>\n",
       "      <td>Musical</td>\n",
       "      <td>G</td>\n",
       "      <td>$184,925,485</td>\n",
       "      <td>$5,228,953,251</td>\n",
       "    </tr>\n",
       "    <tr>\n",
       "      <th>1</th>\n",
       "      <td>1</td>\n",
       "      <td>Pinocchio</td>\n",
       "      <td>1940-02-09</td>\n",
       "      <td>Adventure</td>\n",
       "      <td>G</td>\n",
       "      <td>$84,300,000</td>\n",
       "      <td>$2,188,229,052</td>\n",
       "    </tr>\n",
       "    <tr>\n",
       "      <th>2</th>\n",
       "      <td>2</td>\n",
       "      <td>Fantasia</td>\n",
       "      <td>1940-11-13</td>\n",
       "      <td>Musical</td>\n",
       "      <td>G</td>\n",
       "      <td>$83,320,000</td>\n",
       "      <td>$2,187,090,808</td>\n",
       "    </tr>\n",
       "    <tr>\n",
       "      <th>3</th>\n",
       "      <td>3</td>\n",
       "      <td>Song of the South</td>\n",
       "      <td>1946-11-12</td>\n",
       "      <td>Adventure</td>\n",
       "      <td>G</td>\n",
       "      <td>$65,000,000</td>\n",
       "      <td>$1,078,510,579</td>\n",
       "    </tr>\n",
       "    <tr>\n",
       "      <th>4</th>\n",
       "      <td>4</td>\n",
       "      <td>Cinderella</td>\n",
       "      <td>1950-02-15</td>\n",
       "      <td>Drama</td>\n",
       "      <td>G</td>\n",
       "      <td>$85,000,000</td>\n",
       "      <td>$920,608,730</td>\n",
       "    </tr>\n",
       "  </tbody>\n",
       "</table>\n",
       "</div>"
      ],
      "text/plain": [
       "   index                      movie_title release_date      genre MPAA_rating  \\\n",
       "0      0  Snow White and the Seven Dwarfs   1937-12-21    Musical           G   \n",
       "1      1                        Pinocchio   1940-02-09  Adventure           G   \n",
       "2      2                         Fantasia   1940-11-13    Musical           G   \n",
       "3      3                Song of the South   1946-11-12  Adventure           G   \n",
       "4      4                       Cinderella   1950-02-15      Drama           G   \n",
       "\n",
       "    total_gross inflation_adjusted_gross  \n",
       "0  $184,925,485           $5,228,953,251  \n",
       "1   $84,300,000           $2,188,229,052  \n",
       "2   $83,320,000           $2,187,090,808  \n",
       "3   $65,000,000           $1,078,510,579  \n",
       "4   $85,000,000             $920,608,730  "
      ]
     },
     "execution_count": 2,
     "metadata": {},
     "output_type": "execute_result"
    }
   ],
   "source": [
    "movie_rev.head()"
   ]
  },
  {
   "cell_type": "code",
   "execution_count": 3,
   "metadata": {},
   "outputs": [
    {
     "data": {
      "text/html": [
       "<div>\n",
       "<style scoped>\n",
       "    .dataframe tbody tr th:only-of-type {\n",
       "        vertical-align: middle;\n",
       "    }\n",
       "\n",
       "    .dataframe tbody tr th {\n",
       "        vertical-align: top;\n",
       "    }\n",
       "\n",
       "    .dataframe thead th {\n",
       "        text-align: right;\n",
       "    }\n",
       "</style>\n",
       "<table border=\"1\" class=\"dataframe\">\n",
       "  <thead>\n",
       "    <tr style=\"text-align: right;\">\n",
       "      <th></th>\n",
       "      <th>index</th>\n",
       "      <th>character</th>\n",
       "      <th>voice-actor</th>\n",
       "      <th>movie</th>\n",
       "    </tr>\n",
       "  </thead>\n",
       "  <tbody>\n",
       "    <tr>\n",
       "      <th>0</th>\n",
       "      <td>0</td>\n",
       "      <td>Abby Mallard</td>\n",
       "      <td>Joan Cusack</td>\n",
       "      <td>Chicken Little</td>\n",
       "    </tr>\n",
       "    <tr>\n",
       "      <th>1</th>\n",
       "      <td>1</td>\n",
       "      <td>Abigail Gabble</td>\n",
       "      <td>Monica Evans</td>\n",
       "      <td>The Aristocats</td>\n",
       "    </tr>\n",
       "    <tr>\n",
       "      <th>2</th>\n",
       "      <td>2</td>\n",
       "      <td>Abis Mal</td>\n",
       "      <td>Jason Alexander</td>\n",
       "      <td>The Return of Jafar</td>\n",
       "    </tr>\n",
       "    <tr>\n",
       "      <th>3</th>\n",
       "      <td>3</td>\n",
       "      <td>Abu</td>\n",
       "      <td>Frank Welker</td>\n",
       "      <td>Aladdin</td>\n",
       "    </tr>\n",
       "    <tr>\n",
       "      <th>4</th>\n",
       "      <td>4</td>\n",
       "      <td>Achilles</td>\n",
       "      <td>None</td>\n",
       "      <td>The Hunchback of Notre Dame</td>\n",
       "    </tr>\n",
       "  </tbody>\n",
       "</table>\n",
       "</div>"
      ],
      "text/plain": [
       "   index       character      voice-actor                        movie\n",
       "0      0    Abby Mallard      Joan Cusack               Chicken Little\n",
       "1      1  Abigail Gabble     Monica Evans               The Aristocats\n",
       "2      2        Abis Mal  Jason Alexander          The Return of Jafar\n",
       "3      3             Abu     Frank Welker                      Aladdin\n",
       "4      4        Achilles             None  The Hunchback of Notre Dame"
      ]
     },
     "execution_count": 3,
     "metadata": {},
     "output_type": "execute_result"
    }
   ],
   "source": [
    "actor.head()"
   ]
  },
  {
   "cell_type": "markdown",
   "metadata": {},
   "source": [
    "To help us learn more about the datasets I will run some `.info` and `.shape` tests. This will help give me an idea of size of my data, the dtypes within my data and the cleanliness of my data"
   ]
  },
  {
   "cell_type": "markdown",
   "metadata": {},
   "source": [
    "First here is some more info on the `movie_rev` dataframe:"
   ]
  },
  {
   "cell_type": "code",
   "execution_count": 4,
   "metadata": {},
   "outputs": [
    {
     "data": {
      "text/plain": [
       "(579, 7)"
      ]
     },
     "execution_count": 4,
     "metadata": {},
     "output_type": "execute_result"
    }
   ],
   "source": [
    "movie_rev.shape"
   ]
  },
  {
   "cell_type": "code",
   "execution_count": 5,
   "metadata": {},
   "outputs": [
    {
     "name": "stdout",
     "output_type": "stream",
     "text": [
      "<class 'pandas.core.frame.DataFrame'>\n",
      "RangeIndex: 579 entries, 0 to 578\n",
      "Data columns (total 7 columns):\n",
      " #   Column                    Non-Null Count  Dtype         \n",
      "---  ------                    --------------  -----         \n",
      " 0   index                     579 non-null    int64         \n",
      " 1   movie_title               579 non-null    object        \n",
      " 2   release_date              579 non-null    datetime64[ns]\n",
      " 3   genre                     562 non-null    object        \n",
      " 4   MPAA_rating               523 non-null    object        \n",
      " 5   total_gross               579 non-null    object        \n",
      " 6   inflation_adjusted_gross  579 non-null    object        \n",
      "dtypes: datetime64[ns](1), int64(1), object(5)\n",
      "memory usage: 31.8+ KB\n"
     ]
    }
   ],
   "source": [
    "movie_rev.info()"
   ]
  },
  {
   "cell_type": "markdown",
   "metadata": {},
   "source": [
    "And now here is some more information on `actor` dataframe:"
   ]
  },
  {
   "cell_type": "code",
   "execution_count": 6,
   "metadata": {},
   "outputs": [
    {
     "data": {
      "text/plain": [
       "(935, 4)"
      ]
     },
     "execution_count": 6,
     "metadata": {},
     "output_type": "execute_result"
    }
   ],
   "source": [
    "actor.shape"
   ]
  },
  {
   "cell_type": "code",
   "execution_count": 7,
   "metadata": {},
   "outputs": [
    {
     "name": "stdout",
     "output_type": "stream",
     "text": [
      "<class 'pandas.core.frame.DataFrame'>\n",
      "RangeIndex: 935 entries, 0 to 934\n",
      "Data columns (total 4 columns):\n",
      " #   Column       Non-Null Count  Dtype \n",
      "---  ------       --------------  ----- \n",
      " 0   index        935 non-null    int64 \n",
      " 1   character    935 non-null    object\n",
      " 2   voice-actor  935 non-null    object\n",
      " 3   movie        935 non-null    object\n",
      "dtypes: int64(1), object(3)\n",
      "memory usage: 29.3+ KB\n"
     ]
    }
   ],
   "source": [
    "actor.info()"
   ]
  },
  {
   "cell_type": "markdown",
   "metadata": {},
   "source": [
    "I can see right away that all of the Dtypes in my `movie_rev` dataframe arre listed as objects with expection of the `release_date` columnn that I imported using `parse date` above. They also have several Null values in the genre column. I will start by cleaning this dataframe so that it better suited to answer the questions I have asked above."
   ]
  },
  {
   "cell_type": "code",
   "execution_count": 8,
   "metadata": {},
   "outputs": [
    {
     "name": "stdout",
     "output_type": "stream",
     "text": [
      "<class 'pandas.core.frame.DataFrame'>\n",
      "RangeIndex: 579 entries, 0 to 578\n",
      "Data columns (total 7 columns):\n",
      " #   Column                    Non-Null Count  Dtype         \n",
      "---  ------                    --------------  -----         \n",
      " 0   index                     579 non-null    int64         \n",
      " 1   movie_title               579 non-null    object        \n",
      " 2   release_date              579 non-null    datetime64[ns]\n",
      " 3   genre                     579 non-null    object        \n",
      " 4   MPAA_rating               523 non-null    object        \n",
      " 5   total_gross               579 non-null    object        \n",
      " 6   inflation_adjusted_gross  579 non-null    object        \n",
      "dtypes: datetime64[ns](1), int64(1), object(5)\n",
      "memory usage: 31.8+ KB\n"
     ]
    }
   ],
   "source": [
    "#filling null values in the genre columns with 'unknown'\n",
    "movie_rev = movie_rev.assign(genre = movie_rev['genre'].fillna('unknown'))\n",
    "movie_rev.info()"
   ]
  },
  {
   "cell_type": "code",
   "execution_count": 9,
   "metadata": {},
   "outputs": [
    {
     "data": {
      "text/html": [
       "<div>\n",
       "<style scoped>\n",
       "    .dataframe tbody tr th:only-of-type {\n",
       "        vertical-align: middle;\n",
       "    }\n",
       "\n",
       "    .dataframe tbody tr th {\n",
       "        vertical-align: top;\n",
       "    }\n",
       "\n",
       "    .dataframe thead th {\n",
       "        text-align: right;\n",
       "    }\n",
       "</style>\n",
       "<table border=\"1\" class=\"dataframe\">\n",
       "  <thead>\n",
       "    <tr style=\"text-align: right;\">\n",
       "      <th></th>\n",
       "      <th>index</th>\n",
       "      <th>movie_title</th>\n",
       "      <th>release_date</th>\n",
       "      <th>genre</th>\n",
       "      <th>MPAA_rating</th>\n",
       "      <th>total_gross</th>\n",
       "      <th>inflation_adjusted_gross</th>\n",
       "    </tr>\n",
       "  </thead>\n",
       "  <tbody>\n",
       "    <tr>\n",
       "      <th>0</th>\n",
       "      <td>0</td>\n",
       "      <td>Snow White and the Seven Dwarfs</td>\n",
       "      <td>1937-12-21</td>\n",
       "      <td>Musical</td>\n",
       "      <td>G</td>\n",
       "      <td>184925485.0</td>\n",
       "      <td>$5,228,953,251</td>\n",
       "    </tr>\n",
       "    <tr>\n",
       "      <th>1</th>\n",
       "      <td>1</td>\n",
       "      <td>Pinocchio</td>\n",
       "      <td>1940-02-09</td>\n",
       "      <td>Adventure</td>\n",
       "      <td>G</td>\n",
       "      <td>84300000.0</td>\n",
       "      <td>$2,188,229,052</td>\n",
       "    </tr>\n",
       "    <tr>\n",
       "      <th>2</th>\n",
       "      <td>2</td>\n",
       "      <td>Fantasia</td>\n",
       "      <td>1940-11-13</td>\n",
       "      <td>Musical</td>\n",
       "      <td>G</td>\n",
       "      <td>83320000.0</td>\n",
       "      <td>$2,187,090,808</td>\n",
       "    </tr>\n",
       "    <tr>\n",
       "      <th>3</th>\n",
       "      <td>3</td>\n",
       "      <td>Song of the South</td>\n",
       "      <td>1946-11-12</td>\n",
       "      <td>Adventure</td>\n",
       "      <td>G</td>\n",
       "      <td>65000000.0</td>\n",
       "      <td>$1,078,510,579</td>\n",
       "    </tr>\n",
       "    <tr>\n",
       "      <th>4</th>\n",
       "      <td>4</td>\n",
       "      <td>Cinderella</td>\n",
       "      <td>1950-02-15</td>\n",
       "      <td>Drama</td>\n",
       "      <td>G</td>\n",
       "      <td>85000000.0</td>\n",
       "      <td>$920,608,730</td>\n",
       "    </tr>\n",
       "  </tbody>\n",
       "</table>\n",
       "</div>"
      ],
      "text/plain": [
       "   index                      movie_title release_date      genre MPAA_rating  \\\n",
       "0      0  Snow White and the Seven Dwarfs   1937-12-21    Musical           G   \n",
       "1      1                        Pinocchio   1940-02-09  Adventure           G   \n",
       "2      2                         Fantasia   1940-11-13    Musical           G   \n",
       "3      3                Song of the South   1946-11-12  Adventure           G   \n",
       "4      4                       Cinderella   1950-02-15      Drama           G   \n",
       "\n",
       "   total_gross inflation_adjusted_gross  \n",
       "0  184925485.0           $5,228,953,251  \n",
       "1   84300000.0           $2,188,229,052  \n",
       "2   83320000.0           $2,187,090,808  \n",
       "3   65000000.0           $1,078,510,579  \n",
       "4   85000000.0             $920,608,730  "
      ]
     },
     "execution_count": 9,
     "metadata": {},
     "output_type": "execute_result"
    }
   ],
   "source": [
    "# remove $ and ,  from total_gross and total_gross and convert to float\n",
    "movie_rev = movie_rev.assign(total_gross = movie_rev['total_gross'].str.replace('$','',regex = True).str.replace(',','',regex = True).astype(float))\n",
    "movie_rev.head()"
   ]
  },
  {
   "cell_type": "code",
   "execution_count": 10,
   "metadata": {},
   "outputs": [
    {
     "name": "stdout",
     "output_type": "stream",
     "text": [
      "<class 'pandas.core.frame.DataFrame'>\n",
      "RangeIndex: 579 entries, 0 to 578\n",
      "Data columns (total 7 columns):\n",
      " #   Column                    Non-Null Count  Dtype         \n",
      "---  ------                    --------------  -----         \n",
      " 0   index                     579 non-null    int64         \n",
      " 1   movie_title               579 non-null    object        \n",
      " 2   release_date              579 non-null    datetime64[ns]\n",
      " 3   genre                     579 non-null    object        \n",
      " 4   MPAA_rating               523 non-null    object        \n",
      " 5   total_gross               579 non-null    float64       \n",
      " 6   inflation_adjusted_gross  579 non-null    float64       \n",
      "dtypes: datetime64[ns](1), float64(2), int64(1), object(3)\n",
      "memory usage: 31.8+ KB\n",
      "None\n"
     ]
    }
   ],
   "source": [
    "# remove $ and ,  from total_gross and inflation_adjusted_gross and convert to float\n",
    "movie_rev = movie_rev.assign(inflation_adjusted_gross = movie_rev['inflation_adjusted_gross'].str.replace('$','',regex = True).str.replace(',','',regex = True).astype(float))\n",
    "print(movie_rev.info())"
   ]
  },
  {
   "cell_type": "markdown",
   "metadata": {},
   "source": [
    "Great! I have fixed the null values and converted the `gross_total` and `inflation_adjusted_gross` dtypes to`float`"
   ]
  },
  {
   "cell_type": "markdown",
   "metadata": {},
   "source": [
    "Many of the movies in the dataset do not list any box office revenue. It is reasonable to believe that these movies were not released in theaters. Here I am going to remove them."
   ]
  },
  {
   "cell_type": "code",
   "execution_count": 11,
   "metadata": {},
   "outputs": [
    {
     "data": {
      "text/html": [
       "<div>\n",
       "<style scoped>\n",
       "    .dataframe tbody tr th:only-of-type {\n",
       "        vertical-align: middle;\n",
       "    }\n",
       "\n",
       "    .dataframe tbody tr th {\n",
       "        vertical-align: top;\n",
       "    }\n",
       "\n",
       "    .dataframe thead th {\n",
       "        text-align: right;\n",
       "    }\n",
       "</style>\n",
       "<table border=\"1\" class=\"dataframe\">\n",
       "  <thead>\n",
       "    <tr style=\"text-align: right;\">\n",
       "      <th></th>\n",
       "      <th>index</th>\n",
       "      <th>movie_title</th>\n",
       "      <th>release_date</th>\n",
       "      <th>genre</th>\n",
       "      <th>MPAA_rating</th>\n",
       "      <th>total_gross</th>\n",
       "      <th>inflation_adjusted_gross</th>\n",
       "    </tr>\n",
       "  </thead>\n",
       "  <tbody>\n",
       "    <tr>\n",
       "      <th>511</th>\n",
       "      <td>511</td>\n",
       "      <td>Zokkomon</td>\n",
       "      <td>2011-04-22</td>\n",
       "      <td>Adventure</td>\n",
       "      <td>PG</td>\n",
       "      <td>2815.0</td>\n",
       "      <td>2984.0</td>\n",
       "    </tr>\n",
       "    <tr>\n",
       "      <th>487</th>\n",
       "      <td>487</td>\n",
       "      <td>Walt and El Grupo</td>\n",
       "      <td>2009-09-10</td>\n",
       "      <td>Documentary</td>\n",
       "      <td>PG</td>\n",
       "      <td>20521.0</td>\n",
       "      <td>23064.0</td>\n",
       "    </tr>\n",
       "    <tr>\n",
       "      <th>251</th>\n",
       "      <td>251</td>\n",
       "      <td>The War at Home</td>\n",
       "      <td>1996-11-20</td>\n",
       "      <td>unknown</td>\n",
       "      <td>R</td>\n",
       "      <td>34368.0</td>\n",
       "      <td>65543.0</td>\n",
       "    </tr>\n",
       "    <tr>\n",
       "      <th>280</th>\n",
       "      <td>280</td>\n",
       "      <td>An Alan Smithee Film: Burn Hollywood …</td>\n",
       "      <td>1998-02-27</td>\n",
       "      <td>Comedy</td>\n",
       "      <td>R</td>\n",
       "      <td>45779.0</td>\n",
       "      <td>82277.0</td>\n",
       "    </tr>\n",
       "    <tr>\n",
       "      <th>502</th>\n",
       "      <td>502</td>\n",
       "      <td>Gedo Senki (Tales from Earthsea)</td>\n",
       "      <td>2010-08-13</td>\n",
       "      <td>Adventure</td>\n",
       "      <td>PG-13</td>\n",
       "      <td>48658.0</td>\n",
       "      <td>51988.0</td>\n",
       "    </tr>\n",
       "  </tbody>\n",
       "</table>\n",
       "</div>"
      ],
      "text/plain": [
       "     index                             movie_title release_date        genre  \\\n",
       "511    511                                Zokkomon   2011-04-22    Adventure   \n",
       "487    487                       Walt and El Grupo   2009-09-10  Documentary   \n",
       "251    251                         The War at Home   1996-11-20      unknown   \n",
       "280    280  An Alan Smithee Film: Burn Hollywood …   1998-02-27       Comedy   \n",
       "502    502        Gedo Senki (Tales from Earthsea)   2010-08-13    Adventure   \n",
       "\n",
       "    MPAA_rating  total_gross  inflation_adjusted_gross  \n",
       "511          PG       2815.0                    2984.0  \n",
       "487          PG      20521.0                   23064.0  \n",
       "251           R      34368.0                   65543.0  \n",
       "280           R      45779.0                   82277.0  \n",
       "502       PG-13      48658.0                   51988.0  "
      ]
     },
     "execution_count": 11,
     "metadata": {},
     "output_type": "execute_result"
    }
   ],
   "source": [
    "#emove all columns with 0 gross\n",
    "movie_rev = movie_rev[movie_rev['total_gross'] != 0]\n",
    "#check that all zero values have been eliminated\n",
    "movie_rev.sort_values(by='total_gross', ascending=True).head()"
   ]
  },
  {
   "cell_type": "markdown",
   "metadata": {},
   "source": [
    "Now that the dataframes have been cleaned I will merge them together so that that we can work with them in one dataframe."
   ]
  },
  {
   "cell_type": "code",
   "execution_count": 12,
   "metadata": {},
   "outputs": [
    {
     "data": {
      "text/html": [
       "<div>\n",
       "<style scoped>\n",
       "    .dataframe tbody tr th:only-of-type {\n",
       "        vertical-align: middle;\n",
       "    }\n",
       "\n",
       "    .dataframe tbody tr th {\n",
       "        vertical-align: top;\n",
       "    }\n",
       "\n",
       "    .dataframe thead th {\n",
       "        text-align: right;\n",
       "    }\n",
       "</style>\n",
       "<table border=\"1\" class=\"dataframe\">\n",
       "  <thead>\n",
       "    <tr style=\"text-align: right;\">\n",
       "      <th></th>\n",
       "      <th>index_x</th>\n",
       "      <th>movie</th>\n",
       "      <th>release_date</th>\n",
       "      <th>genre</th>\n",
       "      <th>MPAA_rating</th>\n",
       "      <th>total_gross</th>\n",
       "      <th>inflation_adjusted_gross</th>\n",
       "      <th>index_y</th>\n",
       "      <th>character</th>\n",
       "      <th>voice-actor</th>\n",
       "    </tr>\n",
       "  </thead>\n",
       "  <tbody>\n",
       "    <tr>\n",
       "      <th>0</th>\n",
       "      <td>0</td>\n",
       "      <td>Snow White and the Seven Dwarfs</td>\n",
       "      <td>1937-12-21</td>\n",
       "      <td>Musical</td>\n",
       "      <td>G</td>\n",
       "      <td>184925485.0</td>\n",
       "      <td>5.228953e+09</td>\n",
       "      <td>80</td>\n",
       "      <td>Bashful</td>\n",
       "      <td>Scotty Mattraw</td>\n",
       "    </tr>\n",
       "    <tr>\n",
       "      <th>1</th>\n",
       "      <td>0</td>\n",
       "      <td>Snow White and the Seven Dwarfs</td>\n",
       "      <td>1937-12-21</td>\n",
       "      <td>Musical</td>\n",
       "      <td>G</td>\n",
       "      <td>184925485.0</td>\n",
       "      <td>5.228953e+09</td>\n",
       "      <td>237</td>\n",
       "      <td>Doc</td>\n",
       "      <td>Roy Atwell</td>\n",
       "    </tr>\n",
       "    <tr>\n",
       "      <th>2</th>\n",
       "      <td>0</td>\n",
       "      <td>Snow White and the Seven Dwarfs</td>\n",
       "      <td>1937-12-21</td>\n",
       "      <td>Musical</td>\n",
       "      <td>G</td>\n",
       "      <td>184925485.0</td>\n",
       "      <td>5.228953e+09</td>\n",
       "      <td>248</td>\n",
       "      <td>Dopey</td>\n",
       "      <td>Eddie Collins</td>\n",
       "    </tr>\n",
       "    <tr>\n",
       "      <th>3</th>\n",
       "      <td>0</td>\n",
       "      <td>Snow White and the Seven Dwarfs</td>\n",
       "      <td>1937-12-21</td>\n",
       "      <td>Musical</td>\n",
       "      <td>G</td>\n",
       "      <td>184925485.0</td>\n",
       "      <td>5.228953e+09</td>\n",
       "      <td>382</td>\n",
       "      <td>Grumpy</td>\n",
       "      <td>Pinto Colvig</td>\n",
       "    </tr>\n",
       "    <tr>\n",
       "      <th>4</th>\n",
       "      <td>0</td>\n",
       "      <td>Snow White and the Seven Dwarfs</td>\n",
       "      <td>1937-12-21</td>\n",
       "      <td>Musical</td>\n",
       "      <td>G</td>\n",
       "      <td>184925485.0</td>\n",
       "      <td>5.228953e+09</td>\n",
       "      <td>389</td>\n",
       "      <td>Happy</td>\n",
       "      <td>Otis Harlan</td>\n",
       "    </tr>\n",
       "  </tbody>\n",
       "</table>\n",
       "</div>"
      ],
      "text/plain": [
       "   index_x                            movie release_date    genre MPAA_rating  \\\n",
       "0        0  Snow White and the Seven Dwarfs   1937-12-21  Musical           G   \n",
       "1        0  Snow White and the Seven Dwarfs   1937-12-21  Musical           G   \n",
       "2        0  Snow White and the Seven Dwarfs   1937-12-21  Musical           G   \n",
       "3        0  Snow White and the Seven Dwarfs   1937-12-21  Musical           G   \n",
       "4        0  Snow White and the Seven Dwarfs   1937-12-21  Musical           G   \n",
       "\n",
       "   total_gross  inflation_adjusted_gross  index_y character     voice-actor  \n",
       "0  184925485.0              5.228953e+09       80   Bashful  Scotty Mattraw  \n",
       "1  184925485.0              5.228953e+09      237       Doc      Roy Atwell  \n",
       "2  184925485.0              5.228953e+09      248     Dopey   Eddie Collins  \n",
       "3  184925485.0              5.228953e+09      382    Grumpy    Pinto Colvig  \n",
       "4  184925485.0              5.228953e+09      389     Happy     Otis Harlan  "
      ]
     },
     "execution_count": 12,
     "metadata": {},
     "output_type": "execute_result"
    }
   ],
   "source": [
    "#rename \"movie_title\" column to so the dataframes are consistent\n",
    "movie_rev = movie_rev.rename(columns={'movie_title':'movie'})\n",
    "\n",
    "#remove leading and trailing spaces from movie columns in mergerd dataframes\n",
    "\n",
    "movie_rev.assign(movie = movie_rev['movie'].str.strip())\n",
    "actor.assign(actor = actor['movie'].str.strip())\n",
    "\n",
    "\n",
    "#merge using inner becuase we are only interested in movies with voice actors\n",
    "\n",
    "movie_rev_actor = movie_rev.merge(actor,\n",
    "                                  left_on='movie', \n",
    "                                  right_on='movie',\n",
    "                                  how='inner')\n",
    "movie_rev_actor = movie_rev_actor[movie_rev_actor['voice-actor'] != 'None']\n",
    "\n",
    "movie_rev_actor.head()\n",
    "## make sure all voice-actor with eligable movies are in the dataframe"
   ]
  },
  {
   "cell_type": "markdown",
   "metadata": {},
   "source": [
    "We now have a dataframe that can be used for analyzing revenue by voice actor. However our inquiry question above only cares about modern movies. Below I am going to filter movies that were released before January 1st 1999.\n"
   ]
  },
  {
   "cell_type": "code",
   "execution_count": 13,
   "metadata": {},
   "outputs": [
    {
     "data": {
      "text/html": [
       "<div>\n",
       "<style scoped>\n",
       "    .dataframe tbody tr th:only-of-type {\n",
       "        vertical-align: middle;\n",
       "    }\n",
       "\n",
       "    .dataframe tbody tr th {\n",
       "        vertical-align: top;\n",
       "    }\n",
       "\n",
       "    .dataframe thead th {\n",
       "        text-align: right;\n",
       "    }\n",
       "</style>\n",
       "<table border=\"1\" class=\"dataframe\">\n",
       "  <thead>\n",
       "    <tr style=\"text-align: right;\">\n",
       "      <th></th>\n",
       "      <th>index_x</th>\n",
       "      <th>movie</th>\n",
       "      <th>release_date</th>\n",
       "      <th>genre</th>\n",
       "      <th>MPAA_rating</th>\n",
       "      <th>total_gross</th>\n",
       "      <th>inflation_adjusted_gross</th>\n",
       "      <th>index_y</th>\n",
       "      <th>character</th>\n",
       "      <th>voice-actor</th>\n",
       "    </tr>\n",
       "  </thead>\n",
       "  <tbody>\n",
       "    <tr>\n",
       "      <th>399</th>\n",
       "      <td>306</td>\n",
       "      <td>Tarzan</td>\n",
       "      <td>1999-06-16</td>\n",
       "      <td>Adventure</td>\n",
       "      <td>G</td>\n",
       "      <td>171091819.0</td>\n",
       "      <td>283900254.0</td>\n",
       "      <td>463</td>\n",
       "      <td>Kerchak</td>\n",
       "      <td>Lance Henriksen</td>\n",
       "    </tr>\n",
       "    <tr>\n",
       "      <th>397</th>\n",
       "      <td>306</td>\n",
       "      <td>Tarzan</td>\n",
       "      <td>1999-06-16</td>\n",
       "      <td>Adventure</td>\n",
       "      <td>G</td>\n",
       "      <td>171091819.0</td>\n",
       "      <td>283900254.0</td>\n",
       "      <td>430</td>\n",
       "      <td>Jane Porter</td>\n",
       "      <td>Minnie Driver</td>\n",
       "    </tr>\n",
       "    <tr>\n",
       "      <th>398</th>\n",
       "      <td>306</td>\n",
       "      <td>Tarzan</td>\n",
       "      <td>1999-06-16</td>\n",
       "      <td>Adventure</td>\n",
       "      <td>G</td>\n",
       "      <td>171091819.0</td>\n",
       "      <td>283900254.0</td>\n",
       "      <td>457</td>\n",
       "      <td>Kala</td>\n",
       "      <td>Glenn Close</td>\n",
       "    </tr>\n",
       "    <tr>\n",
       "      <th>400</th>\n",
       "      <td>306</td>\n",
       "      <td>Tarzan</td>\n",
       "      <td>1999-06-16</td>\n",
       "      <td>Adventure</td>\n",
       "      <td>G</td>\n",
       "      <td>171091819.0</td>\n",
       "      <td>283900254.0</td>\n",
       "      <td>620</td>\n",
       "      <td>Mungo</td>\n",
       "      <td>Jason Marsden</td>\n",
       "    </tr>\n",
       "    <tr>\n",
       "      <th>401</th>\n",
       "      <td>306</td>\n",
       "      <td>Tarzan</td>\n",
       "      <td>1999-06-16</td>\n",
       "      <td>Adventure</td>\n",
       "      <td>G</td>\n",
       "      <td>171091819.0</td>\n",
       "      <td>283900254.0</td>\n",
       "      <td>836</td>\n",
       "      <td>Tantor</td>\n",
       "      <td>Wayne Knight</td>\n",
       "    </tr>\n",
       "  </tbody>\n",
       "</table>\n",
       "</div>"
      ],
      "text/plain": [
       "     index_x   movie release_date      genre MPAA_rating  total_gross  \\\n",
       "399      306  Tarzan   1999-06-16  Adventure           G  171091819.0   \n",
       "397      306  Tarzan   1999-06-16  Adventure           G  171091819.0   \n",
       "398      306  Tarzan   1999-06-16  Adventure           G  171091819.0   \n",
       "400      306  Tarzan   1999-06-16  Adventure           G  171091819.0   \n",
       "401      306  Tarzan   1999-06-16  Adventure           G  171091819.0   \n",
       "\n",
       "     inflation_adjusted_gross  index_y    character      voice-actor  \n",
       "399               283900254.0      463      Kerchak  Lance Henriksen  \n",
       "397               283900254.0      430  Jane Porter    Minnie Driver  \n",
       "398               283900254.0      457         Kala      Glenn Close  \n",
       "400               283900254.0      620        Mungo    Jason Marsden  \n",
       "401               283900254.0      836       Tantor     Wayne Knight  "
      ]
     },
     "execution_count": 13,
     "metadata": {},
     "output_type": "execute_result"
    }
   ],
   "source": [
    "#remove all films that were releassed before 1999, to ensure the data is somewhat relative to modern day\n",
    "\n",
    "movie_rev_actor = movie_rev_actor.loc[(movie_rev_actor['release_date'] >= '1999-01-01')]\n",
    "\n",
    "movie_rev_actor.sort_values(by='release_date', ascending=True).head()"
   ]
  },
  {
   "cell_type": "markdown",
   "metadata": {},
   "source": [
    "Now lets take a look at average revenue by voice-actor."
   ]
  },
  {
   "cell_type": "code",
   "execution_count": 14,
   "metadata": {},
   "outputs": [
    {
     "data": {
      "text/html": [
       "<div>\n",
       "<style scoped>\n",
       "    .dataframe tbody tr th:only-of-type {\n",
       "        vertical-align: middle;\n",
       "    }\n",
       "\n",
       "    .dataframe tbody tr th {\n",
       "        vertical-align: top;\n",
       "    }\n",
       "\n",
       "    .dataframe thead th {\n",
       "        text-align: right;\n",
       "    }\n",
       "</style>\n",
       "<table border=\"1\" class=\"dataframe\">\n",
       "  <thead>\n",
       "    <tr style=\"text-align: right;\">\n",
       "      <th></th>\n",
       "      <th>voice-actor</th>\n",
       "      <th>inflation_adjusted_gross</th>\n",
       "    </tr>\n",
       "  </thead>\n",
       "  <tbody>\n",
       "    <tr>\n",
       "      <th>0</th>\n",
       "      <td>Kristen Bell</td>\n",
       "      <td>414997174.0</td>\n",
       "    </tr>\n",
       "    <tr>\n",
       "      <th>1</th>\n",
       "      <td>Jonathan Groff</td>\n",
       "      <td>414997174.0</td>\n",
       "    </tr>\n",
       "    <tr>\n",
       "      <th>2</th>\n",
       "      <td>Chris Williams</td>\n",
       "      <td>414997174.0</td>\n",
       "    </tr>\n",
       "    <tr>\n",
       "      <th>3</th>\n",
       "      <td>Josh Gad</td>\n",
       "      <td>414997174.0</td>\n",
       "    </tr>\n",
       "    <tr>\n",
       "      <th>4</th>\n",
       "      <td>Santino Fontana</td>\n",
       "      <td>414997174.0</td>\n",
       "    </tr>\n",
       "  </tbody>\n",
       "</table>\n",
       "</div>"
      ],
      "text/plain": [
       "       voice-actor  inflation_adjusted_gross\n",
       "0     Kristen Bell               414997174.0\n",
       "1   Jonathan Groff               414997174.0\n",
       "2   Chris Williams               414997174.0\n",
       "3         Josh Gad               414997174.0\n",
       "4  Santino Fontana               414997174.0"
      ]
     },
     "execution_count": 14,
     "metadata": {},
     "output_type": "execute_result"
    }
   ],
   "source": [
    "# group by voice actor and compute the average number of parts.\n",
    "\n",
    "rev_actor_group = pd.DataFrame(movie_rev_actor.groupby('voice-actor')['inflation_adjusted_gross'].mean().sort_values(ascending=False))\n",
    "\n",
    "#reset index so we can plot\n",
    "\n",
    "rev_actor_group = rev_actor_group.reset_index()\n",
    "rev_actor_group.head()"
   ]
  },
  {
   "cell_type": "markdown",
   "metadata": {},
   "source": [
    "Now lets plot out the top 20 actors by average revenue by movie."
   ]
  },
  {
   "cell_type": "code",
   "execution_count": 15,
   "metadata": {
    "tags": [
     "hide-input"
    ]
   },
   "outputs": [
    {
     "data": {
      "text/html": [
       "\n",
       "<div id=\"altair-viz-1fc4f18358c84f3d8113a3897216d5e3\"></div>\n",
       "<script type=\"text/javascript\">\n",
       "  var VEGA_DEBUG = (typeof VEGA_DEBUG == \"undefined\") ? {} : VEGA_DEBUG;\n",
       "  (function(spec, embedOpt){\n",
       "    let outputDiv = document.currentScript.previousElementSibling;\n",
       "    if (outputDiv.id !== \"altair-viz-1fc4f18358c84f3d8113a3897216d5e3\") {\n",
       "      outputDiv = document.getElementById(\"altair-viz-1fc4f18358c84f3d8113a3897216d5e3\");\n",
       "    }\n",
       "    const paths = {\n",
       "      \"vega\": \"https://cdn.jsdelivr.net/npm//vega@5?noext\",\n",
       "      \"vega-lib\": \"https://cdn.jsdelivr.net/npm//vega-lib?noext\",\n",
       "      \"vega-lite\": \"https://cdn.jsdelivr.net/npm//vega-lite@4.17.0?noext\",\n",
       "      \"vega-embed\": \"https://cdn.jsdelivr.net/npm//vega-embed@6?noext\",\n",
       "    };\n",
       "\n",
       "    function maybeLoadScript(lib, version) {\n",
       "      var key = `${lib.replace(\"-\", \"\")}_version`;\n",
       "      return (VEGA_DEBUG[key] == version) ?\n",
       "        Promise.resolve(paths[lib]) :\n",
       "        new Promise(function(resolve, reject) {\n",
       "          var s = document.createElement('script');\n",
       "          document.getElementsByTagName(\"head\")[0].appendChild(s);\n",
       "          s.async = true;\n",
       "          s.onload = () => {\n",
       "            VEGA_DEBUG[key] = version;\n",
       "            return resolve(paths[lib]);\n",
       "          };\n",
       "          s.onerror = () => reject(`Error loading script: ${paths[lib]}`);\n",
       "          s.src = paths[lib];\n",
       "        });\n",
       "    }\n",
       "\n",
       "    function showError(err) {\n",
       "      outputDiv.innerHTML = `<div class=\"error\" style=\"color:red;\">${err}</div>`;\n",
       "      throw err;\n",
       "    }\n",
       "\n",
       "    function displayChart(vegaEmbed) {\n",
       "      vegaEmbed(outputDiv, spec, embedOpt)\n",
       "        .catch(err => showError(`Javascript Error: ${err.message}<br>This usually means there's a typo in your chart specification. See the javascript console for the full traceback.`));\n",
       "    }\n",
       "\n",
       "    if(typeof define === \"function\" && define.amd) {\n",
       "      requirejs.config({paths});\n",
       "      require([\"vega-embed\"], displayChart, err => showError(`Error loading script: ${err.message}`));\n",
       "    } else {\n",
       "      maybeLoadScript(\"vega\", \"5\")\n",
       "        .then(() => maybeLoadScript(\"vega-lite\", \"4.17.0\"))\n",
       "        .then(() => maybeLoadScript(\"vega-embed\", \"6\"))\n",
       "        .catch(showError)\n",
       "        .then(() => displayChart(vegaEmbed));\n",
       "    }\n",
       "  })({\"config\": {\"view\": {\"continuousWidth\": 400, \"continuousHeight\": 300}}, \"data\": {\"name\": \"data-0291511f41e507f120758f0b86dadfc8\"}, \"mark\": \"bar\", \"encoding\": {\"x\": {\"field\": \"voice-actor\", \"sort\": \"-y\", \"title\": \"Voice Actor\", \"type\": \"nominal\"}, \"y\": {\"field\": \"inflation_adjusted_gross\", \"title\": \"Average Movie Revenue\", \"type\": \"quantitative\"}}, \"height\": 300, \"title\": \"Figure 1: Top 20 Average Movie Revenue by Voice Actor inflation adjusted since 1999\", \"width\": 1000, \"$schema\": \"https://vega.github.io/schema/vega-lite/v4.17.0.json\", \"datasets\": {\"data-0291511f41e507f120758f0b86dadfc8\": [{\"voice-actor\": \"Kristen Bell\", \"inflation_adjusted_gross\": 414997174.0}, {\"voice-actor\": \"Jonathan Groff\", \"inflation_adjusted_gross\": 414997174.0}, {\"voice-actor\": \"Chris Williams\", \"inflation_adjusted_gross\": 414997174.0}, {\"voice-actor\": \"Josh Gad\", \"inflation_adjusted_gross\": 414997174.0}, {\"voice-actor\": \"Santino Fontana\", \"inflation_adjusted_gross\": 414997174.0}, {\"voice-actor\": \"Sterling Holloway; Jim Cummings\", \"inflation_adjusted_gross\": 364001123.0}, {\"voice-actor\": \"John Abbott\", \"inflation_adjusted_gross\": 364001123.0}, {\"voice-actor\": \"Darleen Carr\", \"inflation_adjusted_gross\": 364001123.0}, {\"voice-actor\": \"Phil Harris\", \"inflation_adjusted_gross\": 364001123.0}, {\"voice-actor\": \"Digby Wolfe\", \"inflation_adjusted_gross\": 364001123.0}, {\"voice-actor\": \"Ben Wright\", \"inflation_adjusted_gross\": 364001123.0}, {\"voice-actor\": \"Sebastian Cabot\", \"inflation_adjusted_gross\": 364001123.0}, {\"voice-actor\": \"Chad Stuart\", \"inflation_adjusted_gross\": 364001123.0}, {\"voice-actor\": \"George Sanders\", \"inflation_adjusted_gross\": 364001123.0}, {\"voice-actor\": \"Louis Prima\", \"inflation_adjusted_gross\": 364001123.0}, {\"voice-actor\": \"Lord Tim Hudson\", \"inflation_adjusted_gross\": 364001123.0}, {\"voice-actor\": \"Leo De Lyon\", \"inflation_adjusted_gross\": 364001123.0}, {\"voice-actor\": \"Clint Howard\", \"inflation_adjusted_gross\": 364001123.0}, {\"voice-actor\": \"Bruce Reitherman\", \"inflation_adjusted_gross\": 364001123.0}, {\"voice-actor\": \"Verna Felton\", \"inflation_adjusted_gross\": 360532311.0}]}}, {\"mode\": \"vega-lite\"});\n",
       "</script>"
      ],
      "text/plain": [
       "alt.Chart(...)"
      ]
     },
     "execution_count": 15,
     "metadata": {},
     "output_type": "execute_result"
    }
   ],
   "source": [
    "#plot top 20 highest averages using altiar. input hidden\n",
    "\n",
    "voice_actor_plot = (\n",
    "    alt.Chart(rev_actor_group[:20], width=1000, height=300)\n",
    "    .mark_bar()\n",
    "    .encode(\n",
    "        x=alt.X(\"voice-actor:N\",sort=\"-y\", title=\"Voice Actor\"),\n",
    "        y=alt.Y(\"inflation_adjusted_gross:Q\", title=\"Average Movie Revenue\"),\n",
    "    )\n",
    "    .properties(title=\"Figure 1: Top 20 Average Movie Revenue by Voice Actor inflation adjusted since 1999\")\n",
    ")\n",
    "voice_actor_plot\n",
    "\n",
    "\n"
   ]
  },
  {
   "cell_type": "markdown",
   "metadata": {},
   "source": [
    "How many movies did each actor star in? "
   ]
  },
  {
   "cell_type": "code",
   "execution_count": 16,
   "metadata": {},
   "outputs": [
    {
     "data": {
      "text/html": [
       "<div>\n",
       "<style scoped>\n",
       "    .dataframe tbody tr th:only-of-type {\n",
       "        vertical-align: middle;\n",
       "    }\n",
       "\n",
       "    .dataframe tbody tr th {\n",
       "        vertical-align: top;\n",
       "    }\n",
       "\n",
       "    .dataframe thead th {\n",
       "        text-align: right;\n",
       "    }\n",
       "</style>\n",
       "<table border=\"1\" class=\"dataframe\">\n",
       "  <thead>\n",
       "    <tr style=\"text-align: right;\">\n",
       "      <th></th>\n",
       "      <th>voice-actor</th>\n",
       "      <th>movie</th>\n",
       "    </tr>\n",
       "  </thead>\n",
       "  <tbody>\n",
       "    <tr>\n",
       "      <th>0</th>\n",
       "      <td>J. Pat O'Malley</td>\n",
       "      <td>5</td>\n",
       "    </tr>\n",
       "    <tr>\n",
       "      <th>1</th>\n",
       "      <td>Alan Tudyk</td>\n",
       "      <td>4</td>\n",
       "    </tr>\n",
       "    <tr>\n",
       "      <th>2</th>\n",
       "      <td>Corey Burton</td>\n",
       "      <td>3</td>\n",
       "    </tr>\n",
       "    <tr>\n",
       "      <th>3</th>\n",
       "      <td>John DiMaggio</td>\n",
       "      <td>3</td>\n",
       "    </tr>\n",
       "    <tr>\n",
       "      <th>4</th>\n",
       "      <td>John Goodman</td>\n",
       "      <td>2</td>\n",
       "    </tr>\n",
       "  </tbody>\n",
       "</table>\n",
       "</div>"
      ],
      "text/plain": [
       "       voice-actor  movie\n",
       "0  J. Pat O'Malley      5\n",
       "1       Alan Tudyk      4\n",
       "2     Corey Burton      3\n",
       "3    John DiMaggio      3\n",
       "4     John Goodman      2"
      ]
     },
     "execution_count": 16,
     "metadata": {},
     "output_type": "execute_result"
    }
   ],
   "source": [
    "# group by year and compute the average number of parts.\n",
    "\n",
    "count_actor_group = movie_rev_actor.groupby('voice-actor')['movie'].count().sort_values(ascending=False)\n",
    "count_actor_group.head()\n",
    "\n",
    "count_actor_group = count_actor_group.reset_index()\n",
    "count_actor_group.head()\n"
   ]
  },
  {
   "cell_type": "code",
   "execution_count": 24,
   "metadata": {
    "tags": [
     "hide-input"
    ]
   },
   "outputs": [
    {
     "data": {
      "text/html": [
       "\n",
       "<div id=\"altair-viz-3a20a5d081374112a214c194896ce2b1\"></div>\n",
       "<script type=\"text/javascript\">\n",
       "  var VEGA_DEBUG = (typeof VEGA_DEBUG == \"undefined\") ? {} : VEGA_DEBUG;\n",
       "  (function(spec, embedOpt){\n",
       "    let outputDiv = document.currentScript.previousElementSibling;\n",
       "    if (outputDiv.id !== \"altair-viz-3a20a5d081374112a214c194896ce2b1\") {\n",
       "      outputDiv = document.getElementById(\"altair-viz-3a20a5d081374112a214c194896ce2b1\");\n",
       "    }\n",
       "    const paths = {\n",
       "      \"vega\": \"https://cdn.jsdelivr.net/npm//vega@5?noext\",\n",
       "      \"vega-lib\": \"https://cdn.jsdelivr.net/npm//vega-lib?noext\",\n",
       "      \"vega-lite\": \"https://cdn.jsdelivr.net/npm//vega-lite@4.17.0?noext\",\n",
       "      \"vega-embed\": \"https://cdn.jsdelivr.net/npm//vega-embed@6?noext\",\n",
       "    };\n",
       "\n",
       "    function maybeLoadScript(lib, version) {\n",
       "      var key = `${lib.replace(\"-\", \"\")}_version`;\n",
       "      return (VEGA_DEBUG[key] == version) ?\n",
       "        Promise.resolve(paths[lib]) :\n",
       "        new Promise(function(resolve, reject) {\n",
       "          var s = document.createElement('script');\n",
       "          document.getElementsByTagName(\"head\")[0].appendChild(s);\n",
       "          s.async = true;\n",
       "          s.onload = () => {\n",
       "            VEGA_DEBUG[key] = version;\n",
       "            return resolve(paths[lib]);\n",
       "          };\n",
       "          s.onerror = () => reject(`Error loading script: ${paths[lib]}`);\n",
       "          s.src = paths[lib];\n",
       "        });\n",
       "    }\n",
       "\n",
       "    function showError(err) {\n",
       "      outputDiv.innerHTML = `<div class=\"error\" style=\"color:red;\">${err}</div>`;\n",
       "      throw err;\n",
       "    }\n",
       "\n",
       "    function displayChart(vegaEmbed) {\n",
       "      vegaEmbed(outputDiv, spec, embedOpt)\n",
       "        .catch(err => showError(`Javascript Error: ${err.message}<br>This usually means there's a typo in your chart specification. See the javascript console for the full traceback.`));\n",
       "    }\n",
       "\n",
       "    if(typeof define === \"function\" && define.amd) {\n",
       "      requirejs.config({paths});\n",
       "      require([\"vega-embed\"], displayChart, err => showError(`Error loading script: ${err.message}`));\n",
       "    } else {\n",
       "      maybeLoadScript(\"vega\", \"5\")\n",
       "        .then(() => maybeLoadScript(\"vega-lite\", \"4.17.0\"))\n",
       "        .then(() => maybeLoadScript(\"vega-embed\", \"6\"))\n",
       "        .catch(showError)\n",
       "        .then(() => displayChart(vegaEmbed));\n",
       "    }\n",
       "  })({\"config\": {\"view\": {\"continuousWidth\": 400, \"continuousHeight\": 300}}, \"data\": {\"name\": \"data-e90e4797a3d1a422e79e93f428e3d58d\"}, \"mark\": \"circle\", \"encoding\": {\"x\": {\"field\": \"voice-actor\", \"sort\": \"-y\", \"title\": \"Voice Actor\", \"type\": \"nominal\"}, \"y\": {\"field\": \"movie\", \"title\": \"movie appearances\", \"type\": \"quantitative\"}}, \"height\": 300, \"title\": \"Figure 2: nummber of films by Voice Actor since 1999 (top 20 actors)\", \"width\": 1000, \"$schema\": \"https://vega.github.io/schema/vega-lite/v4.17.0.json\", \"datasets\": {\"data-e90e4797a3d1a422e79e93f428e3d58d\": [{\"voice-actor\": \"J. Pat O'Malley\", \"movie\": 5}, {\"voice-actor\": \"Alan Tudyk\", \"movie\": 4}, {\"voice-actor\": \"Corey Burton\", \"movie\": 3}, {\"voice-actor\": \"John DiMaggio\", \"movie\": 3}, {\"voice-actor\": \"John Goodman\", \"movie\": 2}, {\"voice-actor\": \"Idina Menzel\", \"movie\": 2}, {\"voice-actor\": \"Mark Walton\", \"movie\": 2}, {\"voice-actor\": \"Laurie Metcalf\", \"movie\": 2}, {\"voice-actor\": \"Larry Grey\", \"movie\": 2}, {\"voice-actor\": \"David Ogden Stiers\", \"movie\": 2}, {\"voice-actor\": \"Rich Moore\", \"movie\": 2}, {\"voice-actor\": \"Kevin Michael Richardson\", \"movie\": 2}, {\"voice-actor\": \"Diedrich Bader\", \"movie\": 2}, {\"voice-actor\": \"D. B. Sweeney\", \"movie\": 2}, {\"voice-actor\": \"Bill Thompson\", \"movie\": 2}, {\"voice-actor\": \"Verna Felton\", \"movie\": 2}, {\"voice-actor\": \"Michael J. Fox\", \"movie\": 1}, {\"voice-actor\": \"Miley Cyrus\", \"movie\": 1}, {\"voice-actor\": \"Luis Van Rooten; Rob Paulsen\", \"movie\": 1}, {\"voice-actor\": \"Malcolm McDowell\", \"movie\": 1}]}}, {\"mode\": \"vega-lite\"});\n",
       "</script>"
      ],
      "text/plain": [
       "alt.Chart(...)"
      ]
     },
     "execution_count": 24,
     "metadata": {},
     "output_type": "execute_result"
    }
   ],
   "source": [
    "#plot top 75 highest appearance in movies using altiar input hidden\n",
    "\n",
    "count_actor_plot = (\n",
    "    alt.Chart(count_actor_group[:20], width=1000, height=300)\n",
    "    .mark_circle()\n",
    "    .encode(\n",
    "        x=alt.X(\"voice-actor:N\",sort=\"-y\", title=\"Voice Actor\"),\n",
    "        y=alt.Y(\"movie:Q\", title=\"movie appearances\"),\n",
    "    )\n",
    "    .properties(title=\"Figure 2: nummber of films by Voice Actor since 1999 (top 20 actors)\")\n",
    ")\n",
    "count_actor_plot"
   ]
  },
  {
   "cell_type": "markdown",
   "metadata": {},
   "source": [
    "The above plost shows us the that there relatively few actors who have not more than one film since 1999. We can see that Kirsten Bell has the highest grossing average but has only starred in one movie."
   ]
  },
  {
   "cell_type": "markdown",
   "metadata": {},
   "source": [
    "Now I will create a function the reads in a dataframe and returns the counts and average of a specific columns for a specific string. This will be a helpful tool to quickly see how many movies a given actor has been in and how much revenue they have grossed on average per moive. However, it can also be used to get other interesting stats such as revenue by genre and it can be reused on any dataframe that contains columns with strings and columns with floats."
   ]
  },
  {
   "cell_type": "code",
   "execution_count": 18,
   "metadata": {},
   "outputs": [],
   "source": [
    "#import function\n",
    "from scripts import its_the_final_function as ff\n"
   ]
  },
  {
   "cell_type": "code",
   "execution_count": 19,
   "metadata": {},
   "outputs": [
    {
     "name": "stdout",
     "output_type": "stream",
     "text": [
      "============================= test session starts =============================\n",
      "platform win32 -- Python 3.9.12, pytest-7.2.0, pluggy-1.0.0\n",
      "rootdir: C:\\Users\\cliff\\final-assignment-8\\assignment-8-book\n",
      "plugins: anyio-3.6.1\n",
      "collected 2 items\n",
      "\n",
      "scripts\\final_test.py ..                                                 [100%]\n",
      "\n",
      "============================== 2 passed in 1.67s ==============================\n"
     ]
    }
   ],
   "source": [
    "#test function\n",
    "\n",
    "!pytest scripts\\final_test.py"
   ]
  },
  {
   "cell_type": "code",
   "execution_count": 20,
   "metadata": {},
   "outputs": [
    {
     "data": {
      "text/plain": [
       "(1, 414997174.0)"
      ]
     },
     "execution_count": 20,
     "metadata": {},
     "output_type": "execute_result"
    }
   ],
   "source": [
    "#how many disney movies has Kristen Bell appeared in and how much did they gross after inflation on average?\n",
    "kristen_bell = ff.custom_count_mean(movie_rev_actor,'voice-actor', 'Kristen Bell', 'inflation_adjusted_gross')\n",
    "kristen_bell"
   ]
  },
  {
   "cell_type": "code",
   "execution_count": 21,
   "metadata": {},
   "outputs": [
    {
     "data": {
      "text/plain": [
       "(2, 126552854.5)"
      ]
     },
     "execution_count": 21,
     "metadata": {},
     "output_type": "execute_result"
    }
   ],
   "source": [
    "#now lets try John Goodman\n",
    "\n",
    "john_goodman = ff.custom_count_mean(movie_rev_actor,'voice-actor', 'John Goodman', 'inflation_adjusted_gross')\n",
    "john_goodman"
   ]
  },
  {
   "cell_type": "markdown",
   "metadata": {},
   "source": [
    "To see how average revenue by actor compares to the overall average we will need to calucate the overall average movie revenue for movies released since 1999."
   ]
  },
  {
   "cell_type": "code",
   "execution_count": 22,
   "metadata": {},
   "outputs": [
    {
     "data": {
      "text/html": [
       "<div>\n",
       "<style scoped>\n",
       "    .dataframe tbody tr th:only-of-type {\n",
       "        vertical-align: middle;\n",
       "    }\n",
       "\n",
       "    .dataframe tbody tr th {\n",
       "        vertical-align: top;\n",
       "    }\n",
       "\n",
       "    .dataframe thead th {\n",
       "        text-align: right;\n",
       "    }\n",
       "</style>\n",
       "<table border=\"1\" class=\"dataframe\">\n",
       "  <thead>\n",
       "    <tr style=\"text-align: right;\">\n",
       "      <th></th>\n",
       "      <th>index</th>\n",
       "      <th>movie</th>\n",
       "      <th>release_date</th>\n",
       "      <th>genre</th>\n",
       "      <th>MPAA_rating</th>\n",
       "      <th>total_gross</th>\n",
       "      <th>inflation_adjusted_gross</th>\n",
       "    </tr>\n",
       "  </thead>\n",
       "  <tbody>\n",
       "    <tr>\n",
       "      <th>300</th>\n",
       "      <td>300</td>\n",
       "      <td>My Favorite Martian</td>\n",
       "      <td>1999-02-12</td>\n",
       "      <td>Comedy</td>\n",
       "      <td>PG</td>\n",
       "      <td>36850101.0</td>\n",
       "      <td>61150849.0</td>\n",
       "    </tr>\n",
       "    <tr>\n",
       "      <th>301</th>\n",
       "      <td>301</td>\n",
       "      <td>The Other Sister</td>\n",
       "      <td>1999-02-26</td>\n",
       "      <td>Romantic Comedy</td>\n",
       "      <td>PG-13</td>\n",
       "      <td>27807627.0</td>\n",
       "      <td>46145331.0</td>\n",
       "    </tr>\n",
       "    <tr>\n",
       "      <th>302</th>\n",
       "      <td>302</td>\n",
       "      <td>Doug's 1st Movie</td>\n",
       "      <td>1999-03-26</td>\n",
       "      <td>Adventure</td>\n",
       "      <td>G</td>\n",
       "      <td>19421271.0</td>\n",
       "      <td>32228598.0</td>\n",
       "    </tr>\n",
       "    <tr>\n",
       "      <th>303</th>\n",
       "      <td>303</td>\n",
       "      <td>Ten Things I Hate About You</td>\n",
       "      <td>1999-03-31</td>\n",
       "      <td>Romantic Comedy</td>\n",
       "      <td>PG-13</td>\n",
       "      <td>38177966.0</td>\n",
       "      <td>63354375.0</td>\n",
       "    </tr>\n",
       "    <tr>\n",
       "      <th>304</th>\n",
       "      <td>304</td>\n",
       "      <td>Endurance</td>\n",
       "      <td>1999-05-14</td>\n",
       "      <td>unknown</td>\n",
       "      <td>PG</td>\n",
       "      <td>229128.0</td>\n",
       "      <td>380218.0</td>\n",
       "    </tr>\n",
       "  </tbody>\n",
       "</table>\n",
       "</div>"
      ],
      "text/plain": [
       "     index                        movie release_date            genre  \\\n",
       "300    300          My Favorite Martian   1999-02-12           Comedy   \n",
       "301    301             The Other Sister   1999-02-26  Romantic Comedy   \n",
       "302    302             Doug's 1st Movie   1999-03-26        Adventure   \n",
       "303    303  Ten Things I Hate About You   1999-03-31  Romantic Comedy   \n",
       "304    304                    Endurance   1999-05-14          unknown   \n",
       "\n",
       "    MPAA_rating  total_gross  inflation_adjusted_gross  \n",
       "300          PG   36850101.0                61150849.0  \n",
       "301       PG-13   27807627.0                46145331.0  \n",
       "302           G   19421271.0                32228598.0  \n",
       "303       PG-13   38177966.0                63354375.0  \n",
       "304          PG     229128.0                  380218.0  "
      ]
     },
     "execution_count": 22,
     "metadata": {},
     "output_type": "execute_result"
    }
   ],
   "source": [
    "movie_rev_1999 = movie_rev.loc[(movie_rev['release_date'] >= '1999-01-01')]\n",
    "movie_rev_1999.sort_values(by='release_date', ascending=True).head()"
   ]
  },
  {
   "cell_type": "markdown",
   "metadata": {},
   "source": [
    "Above I test the function against some helper data to ensure it is returning the correct values"
   ]
  },
  {
   "cell_type": "code",
   "execution_count": 23,
   "metadata": {},
   "outputs": [
    {
     "data": {
      "text/plain": [
       "111235899.49640287"
      ]
     },
     "execution_count": 23,
     "metadata": {},
     "output_type": "execute_result"
    }
   ],
   "source": [
    "#Find mean movie revenue of movie realeased after 1999-01-01\n",
    "\n",
    "mean_rev_a1999  =movie_rev_1999['inflation_adjusted_gross'].mean()\n",
    "\n",
    "mean_rev_a1999"
   ]
  },
  {
   "cell_type": "markdown",
   "metadata": {},
   "source": [
    "Above we can see that Kristen Bell and John Goodman appear in one and two films respectively since 1999 but that the movies they were in grossed above the average movie released by disney since 1999."
   ]
  },
  {
   "cell_type": "markdown",
   "metadata": {},
   "source": [
    "# Discussions"
   ]
  },
  {
   "cell_type": "markdown",
   "metadata": {},
   "source": [
    " In the analysis I tried compute average revenue of movies starred in by each voice actor and the average number of movies they had starred in since 1999. First I imported the relavant datasets and then using `.info()` looked at how the data was being stored. I then cleaned and and merged the `disney_voice_actor` dataset with the `disney_movies_total_revenue` data set. I then performed several visualizations that helped me answer my intitial question. I also created a function that pulls the the number of movies and average revenue per movie for a specfic actor. This acts a search function of the data. I is usefull for looking up specfic information on a specfic actor.\n",
    " \n",
    " I was quite suprised by my results. Very few actors appeared in more that one movie since 1999. Further the actors who appeared in more films generally had a lower average movie revenue for the movies they starred in. I expected that disney would cast actors more often once they had a successfull movie but that does to appear to be what is happening. This could be becuase the genre and theme of the movie matter more than the actors who starred in them.\n",
    " \n",
    " One interesting question to explore on this data could be to see if there is a correlation between average revenue by genre and number of movies created under that specific genre. It would be very interesting to compare the results of that analysis to my results. It could also be interesting to expand that analysis beyond just disney movies if those datasets exist. This would interesting becuase it would allow disney to begin focus that production budgets on genres and actors that on avergae earn the studio more revenue.\n",
    " "
   ]
  },
  {
   "cell_type": "markdown",
   "metadata": {},
   "source": [
    "# References\n",
    "\n",
    "Not all the work in this notebook is original. Some of the code was taken from various online sources including https://stackoverflow.com/, the various Modules and assigments in 'Python for Data Science' and the 'Sample Project'. I take no credit for parts that are not mine.\n",
    "\n",
    "\n",
    "## Resources used\n",
    "\n",
    "Data Souce:\n",
    "\n",
    "    `disney data set` provided through Python for Data Science\n",
    "\n",
    "Trouble shooting:\n",
    "\n",
    "    https://stackoverflow.com/  and modules 1 through 8 in Python for Data Science were used to trouble shoot the many errors I came accross.\n",
    "    "
   ]
  }
 ],
 "metadata": {
  "kernelspec": {
   "display_name": "Python 3 (ipykernel)",
   "language": "python",
   "name": "python3"
  },
  "language_info": {
   "codemirror_mode": {
    "name": "ipython",
    "version": 3
   },
   "file_extension": ".py",
   "mimetype": "text/x-python",
   "name": "python",
   "nbconvert_exporter": "python",
   "pygments_lexer": "ipython3",
   "version": "3.9.12"
  }
 },
 "nbformat": 4,
 "nbformat_minor": 4
}
