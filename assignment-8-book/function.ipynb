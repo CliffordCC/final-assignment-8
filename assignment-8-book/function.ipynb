{
 "cells": [
  {
   "cell_type": "markdown",
   "id": "b5c8d2d2-a7da-4591-95ab-9957591162b8",
   "metadata": {},
   "source": [
    "# Function"
   ]
  },
  {
   "cell_type": "code",
   "execution_count": 1,
   "id": "b3bec4e0-3796-43f1-b73e-31c8d98095b4",
   "metadata": {},
   "outputs": [
    {
     "name": "stdout",
     "output_type": "stream",
     "text": [
      "<class 'pandas.core.frame.DataFrame'>\n",
      "RangeIndex: 575 entries, 0 to 574\n",
      "Data columns (total 8 columns):\n",
      " #   Column                    Non-Null Count  Dtype  \n",
      "---  ------                    --------------  -----  \n",
      " 0   Unnamed: 0                575 non-null    int64  \n",
      " 1   index                     575 non-null    int64  \n",
      " 2   movie_title               575 non-null    object \n",
      " 3   release_date              575 non-null    object \n",
      " 4   genre                     575 non-null    object \n",
      " 5   MPAA_rating               523 non-null    object \n",
      " 6   total_gross               575 non-null    float64\n",
      " 7   inflation_adjusted_gross  575 non-null    float64\n",
      "dtypes: float64(2), int64(2), object(4)\n",
      "memory usage: 36.1+ KB\n",
      "None\n"
     ]
    }
   ],
   "source": [
    "import pandas as pd\n",
    "import altair as alt\n",
    "movie_rev_actor = pd.read_csv('data/movie_rev_actor.csv')\n",
    "movie_rev = pd.read_csv('data/movie_rev_cleaned.csv')\n",
    "print(movie_rev.info())"
   ]
  },
  {
   "cell_type": "code",
   "execution_count": 2,
   "id": "8924ccfb-926a-4acf-9fe8-338b5f1a1520",
   "metadata": {},
   "outputs": [
    {
     "name": "stdout",
     "output_type": "stream",
     "text": [
      "<class 'pandas.core.frame.DataFrame'>\n",
      "RangeIndex: 575 entries, 0 to 574\n",
      "Data columns (total 8 columns):\n",
      " #   Column                    Non-Null Count  Dtype         \n",
      "---  ------                    --------------  -----         \n",
      " 0   Unnamed: 0                575 non-null    int64         \n",
      " 1   index                     575 non-null    int64         \n",
      " 2   movie_title               575 non-null    object        \n",
      " 3   release_date              575 non-null    datetime64[ns]\n",
      " 4   genre                     575 non-null    object        \n",
      " 5   MPAA_rating               523 non-null    object        \n",
      " 6   total_gross               575 non-null    float64       \n",
      " 7   inflation_adjusted_gross  575 non-null    float64       \n",
      "dtypes: datetime64[ns](1), float64(2), int64(2), object(3)\n",
      "memory usage: 36.1+ KB\n",
      "None\n"
     ]
    }
   ],
   "source": [
    "# switch Dtype to datetime\n",
    "movie_rev['release_date'] = movie_rev['release_date'].astype('datetime64')\n",
    "print(movie_rev.info())"
   ]
  },
  {
   "cell_type": "code",
   "execution_count": 3,
   "id": "dcafb74b-31af-4fce-8a03-016c30166712",
   "metadata": {},
   "outputs": [],
   "source": [
    "#import function\n",
    "from scripts import its_the_final_function as ff"
   ]
  },
  {
   "cell_type": "code",
   "execution_count": 4,
   "id": "98aa2541-9a5d-4f8d-9697-dccd95ebdda0",
   "metadata": {},
   "outputs": [
    {
     "name": "stdout",
     "output_type": "stream",
     "text": [
      "============================= test session starts =============================\n",
      "platform win32 -- Python 3.9.12, pytest-7.2.0, pluggy-1.0.0\n",
      "rootdir: C:\\Users\\cliff\\final-assignment-8\\assignment-8-book\n",
      "plugins: anyio-3.6.1\n",
      "collected 2 items\n",
      "\n",
      "scripts\\final_test.py ..                                                 [100%]\n",
      "\n",
      "============================== 2 passed in 1.59s ==============================\n"
     ]
    }
   ],
   "source": [
    "#test function\n",
    "\n",
    "!pytest scripts\\final_test.py"
   ]
  },
  {
   "cell_type": "code",
   "execution_count": 5,
   "id": "e6887e61-8f5e-4dbb-aa39-f3da42c24529",
   "metadata": {},
   "outputs": [
    {
     "data": {
      "text/plain": [
       "(1, 414997174.0)"
      ]
     },
     "execution_count": 5,
     "metadata": {},
     "output_type": "execute_result"
    }
   ],
   "source": [
    "#how many disney movies has Kristen Bell appeared in and how much did they gross after inflation on average?\n",
    "kristen_bell = ff.custom_count_mean(movie_rev_actor,'voice-actor', 'Kristen Bell', 'inflation_adjusted_gross')\n",
    "kristen_bell"
   ]
  },
  {
   "cell_type": "code",
   "execution_count": 6,
   "id": "5e9941f3-fad5-469e-adeb-39dcbed989d7",
   "metadata": {},
   "outputs": [
    {
     "data": {
      "text/plain": [
       "(2, 126552854.5)"
      ]
     },
     "execution_count": 6,
     "metadata": {},
     "output_type": "execute_result"
    }
   ],
   "source": [
    "#now lets try John Goodman\n",
    "\n",
    "john_goodman = ff.custom_count_mean(movie_rev_actor,'voice-actor', 'John Goodman', 'inflation_adjusted_gross')\n",
    "john_goodman"
   ]
  },
  {
   "cell_type": "markdown",
   "id": "ed2f7efb-821d-4076-8b62-e1f3cd3c907b",
   "metadata": {},
   "source": [
    "To how average revenue by actor compares to the overall average we will need to calcucate the overall average movie revenue for movies released since 1999."
   ]
  },
  {
   "cell_type": "code",
   "execution_count": 14,
   "id": "0382b892-02f0-4da6-9374-598f3d330b69",
   "metadata": {},
   "outputs": [
    {
     "data": {
      "text/html": [
       "<div>\n",
       "<style scoped>\n",
       "    .dataframe tbody tr th:only-of-type {\n",
       "        vertical-align: middle;\n",
       "    }\n",
       "\n",
       "    .dataframe tbody tr th {\n",
       "        vertical-align: top;\n",
       "    }\n",
       "\n",
       "    .dataframe thead th {\n",
       "        text-align: right;\n",
       "    }\n",
       "</style>\n",
       "<table border=\"1\" class=\"dataframe\">\n",
       "  <thead>\n",
       "    <tr style=\"text-align: right;\">\n",
       "      <th></th>\n",
       "      <th>Unnamed: 0</th>\n",
       "      <th>index</th>\n",
       "      <th>movie_title</th>\n",
       "      <th>release_date</th>\n",
       "      <th>genre</th>\n",
       "      <th>MPAA_rating</th>\n",
       "      <th>total_gross</th>\n",
       "      <th>inflation_adjusted_gross</th>\n",
       "    </tr>\n",
       "  </thead>\n",
       "  <tbody>\n",
       "    <tr>\n",
       "      <th>297</th>\n",
       "      <td>300</td>\n",
       "      <td>300</td>\n",
       "      <td>My Favorite Martian</td>\n",
       "      <td>1999-02-12</td>\n",
       "      <td>Comedy</td>\n",
       "      <td>PG</td>\n",
       "      <td>36850101.0</td>\n",
       "      <td>61150849.0</td>\n",
       "    </tr>\n",
       "    <tr>\n",
       "      <th>298</th>\n",
       "      <td>301</td>\n",
       "      <td>301</td>\n",
       "      <td>The Other Sister</td>\n",
       "      <td>1999-02-26</td>\n",
       "      <td>Romantic Comedy</td>\n",
       "      <td>PG-13</td>\n",
       "      <td>27807627.0</td>\n",
       "      <td>46145331.0</td>\n",
       "    </tr>\n",
       "    <tr>\n",
       "      <th>299</th>\n",
       "      <td>302</td>\n",
       "      <td>302</td>\n",
       "      <td>Doug's 1st Movie</td>\n",
       "      <td>1999-03-26</td>\n",
       "      <td>Adventure</td>\n",
       "      <td>G</td>\n",
       "      <td>19421271.0</td>\n",
       "      <td>32228598.0</td>\n",
       "    </tr>\n",
       "    <tr>\n",
       "      <th>300</th>\n",
       "      <td>303</td>\n",
       "      <td>303</td>\n",
       "      <td>Ten Things I Hate About You</td>\n",
       "      <td>1999-03-31</td>\n",
       "      <td>Romantic Comedy</td>\n",
       "      <td>PG-13</td>\n",
       "      <td>38177966.0</td>\n",
       "      <td>63354375.0</td>\n",
       "    </tr>\n",
       "    <tr>\n",
       "      <th>301</th>\n",
       "      <td>304</td>\n",
       "      <td>304</td>\n",
       "      <td>Endurance</td>\n",
       "      <td>1999-05-14</td>\n",
       "      <td>unknown</td>\n",
       "      <td>PG</td>\n",
       "      <td>229128.0</td>\n",
       "      <td>380218.0</td>\n",
       "    </tr>\n",
       "  </tbody>\n",
       "</table>\n",
       "</div>"
      ],
      "text/plain": [
       "     Unnamed: 0  index                  movie_title release_date  \\\n",
       "297         300    300          My Favorite Martian   1999-02-12   \n",
       "298         301    301             The Other Sister   1999-02-26   \n",
       "299         302    302             Doug's 1st Movie   1999-03-26   \n",
       "300         303    303  Ten Things I Hate About You   1999-03-31   \n",
       "301         304    304                    Endurance   1999-05-14   \n",
       "\n",
       "               genre MPAA_rating  total_gross  inflation_adjusted_gross  \n",
       "297           Comedy          PG   36850101.0                61150849.0  \n",
       "298  Romantic Comedy       PG-13   27807627.0                46145331.0  \n",
       "299        Adventure           G   19421271.0                32228598.0  \n",
       "300  Romantic Comedy       PG-13   38177966.0                63354375.0  \n",
       "301          unknown          PG     229128.0                  380218.0  "
      ]
     },
     "execution_count": 14,
     "metadata": {},
     "output_type": "execute_result"
    }
   ],
   "source": [
    "movie_rev_1999 = movie_rev.loc[(movie_rev['release_date'] >= '1999-01-01')]\n",
    "movie_rev_1999.sort_values(by='release_date', ascending=True).head()"
   ]
  },
  {
   "cell_type": "markdown",
   "id": "e4a3c238-2fae-4612-bff7-026f1f515d92",
   "metadata": {},
   "source": [
    "Above I test the function against some helper data to ensure it is returning the correct values"
   ]
  },
  {
   "cell_type": "code",
   "execution_count": 8,
   "id": "7c930ef5-78b5-42f3-9547-47fc118230c7",
   "metadata": {},
   "outputs": [
    {
     "data": {
      "text/plain": [
       "111235899.49640287"
      ]
     },
     "execution_count": 8,
     "metadata": {},
     "output_type": "execute_result"
    }
   ],
   "source": [
    "#Find mean movie revenue of movie realeased after 1999-01-01\n",
    "\n",
    "mean_rev_a1999  =movie_rev_1999['inflation_adjusted_gross'].mean()\n",
    "\n",
    "mean_rev_a1999"
   ]
  },
  {
   "cell_type": "markdown",
   "id": "d253e5d5-02c7-47da-b204-8a299a30bc99",
   "metadata": {},
   "source": [
    "Above I test the function against some helper data to ensure it is returning the correct values"
   ]
  },
  {
   "cell_type": "code",
   "execution_count": 25,
   "id": "20b656c8-9c13-4383-9343-830985e6f3ad",
   "metadata": {},
   "outputs": [
    {
     "data": {
      "text/html": [
       "<div>\n",
       "<style scoped>\n",
       "    .dataframe tbody tr th:only-of-type {\n",
       "        vertical-align: middle;\n",
       "    }\n",
       "\n",
       "    .dataframe tbody tr th {\n",
       "        vertical-align: top;\n",
       "    }\n",
       "\n",
       "    .dataframe thead th {\n",
       "        text-align: right;\n",
       "    }\n",
       "</style>\n",
       "<table border=\"1\" class=\"dataframe\">\n",
       "  <thead>\n",
       "    <tr style=\"text-align: right;\">\n",
       "      <th></th>\n",
       "      <th>genre</th>\n",
       "      <th>inflation_adjusted_gross</th>\n",
       "    </tr>\n",
       "  </thead>\n",
       "  <tbody>\n",
       "    <tr>\n",
       "      <th>0</th>\n",
       "      <td>Adventure</td>\n",
       "      <td>1.585306e+10</td>\n",
       "    </tr>\n",
       "    <tr>\n",
       "      <th>1</th>\n",
       "      <td>Comedy</td>\n",
       "      <td>5.022959e+09</td>\n",
       "    </tr>\n",
       "    <tr>\n",
       "      <th>2</th>\n",
       "      <td>Action</td>\n",
       "      <td>3.507162e+09</td>\n",
       "    </tr>\n",
       "    <tr>\n",
       "      <th>3</th>\n",
       "      <td>Drama</td>\n",
       "      <td>2.810345e+09</td>\n",
       "    </tr>\n",
       "    <tr>\n",
       "      <th>4</th>\n",
       "      <td>Thriller/Suspense</td>\n",
       "      <td>1.650202e+09</td>\n",
       "    </tr>\n",
       "  </tbody>\n",
       "</table>\n",
       "</div>"
      ],
      "text/plain": [
       "               genre  inflation_adjusted_gross\n",
       "0          Adventure              1.585306e+10\n",
       "1             Comedy              5.022959e+09\n",
       "2             Action              3.507162e+09\n",
       "3              Drama              2.810345e+09\n",
       "4  Thriller/Suspense              1.650202e+09"
      ]
     },
     "execution_count": 25,
     "metadata": {},
     "output_type": "execute_result"
    }
   ],
   "source": [
    "movie_rev_1999_group = movie_rev_1999.groupby('genre')['inflation_adjusted_gross'].sum().sort_values(ascending=False)\n",
    "movie_rev_1999_group.head()\n",
    "\n",
    "movie_rev_1999_group = movie_rev_1999_group.reset_index()\n",
    "movie_rev_1999_group.head()"
   ]
  },
  {
   "cell_type": "code",
   "execution_count": 26,
   "id": "5e40fe9d-12f1-4630-8a0e-3a98677bbb79",
   "metadata": {},
   "outputs": [
    {
     "data": {
      "text/html": [
       "\n",
       "<div id=\"altair-viz-f7d67874d42a474f8b6817a723167860\"></div>\n",
       "<script type=\"text/javascript\">\n",
       "  var VEGA_DEBUG = (typeof VEGA_DEBUG == \"undefined\") ? {} : VEGA_DEBUG;\n",
       "  (function(spec, embedOpt){\n",
       "    let outputDiv = document.currentScript.previousElementSibling;\n",
       "    if (outputDiv.id !== \"altair-viz-f7d67874d42a474f8b6817a723167860\") {\n",
       "      outputDiv = document.getElementById(\"altair-viz-f7d67874d42a474f8b6817a723167860\");\n",
       "    }\n",
       "    const paths = {\n",
       "      \"vega\": \"https://cdn.jsdelivr.net/npm//vega@5?noext\",\n",
       "      \"vega-lib\": \"https://cdn.jsdelivr.net/npm//vega-lib?noext\",\n",
       "      \"vega-lite\": \"https://cdn.jsdelivr.net/npm//vega-lite@4.17.0?noext\",\n",
       "      \"vega-embed\": \"https://cdn.jsdelivr.net/npm//vega-embed@6?noext\",\n",
       "    };\n",
       "\n",
       "    function maybeLoadScript(lib, version) {\n",
       "      var key = `${lib.replace(\"-\", \"\")}_version`;\n",
       "      return (VEGA_DEBUG[key] == version) ?\n",
       "        Promise.resolve(paths[lib]) :\n",
       "        new Promise(function(resolve, reject) {\n",
       "          var s = document.createElement('script');\n",
       "          document.getElementsByTagName(\"head\")[0].appendChild(s);\n",
       "          s.async = true;\n",
       "          s.onload = () => {\n",
       "            VEGA_DEBUG[key] = version;\n",
       "            return resolve(paths[lib]);\n",
       "          };\n",
       "          s.onerror = () => reject(`Error loading script: ${paths[lib]}`);\n",
       "          s.src = paths[lib];\n",
       "        });\n",
       "    }\n",
       "\n",
       "    function showError(err) {\n",
       "      outputDiv.innerHTML = `<div class=\"error\" style=\"color:red;\">${err}</div>`;\n",
       "      throw err;\n",
       "    }\n",
       "\n",
       "    function displayChart(vegaEmbed) {\n",
       "      vegaEmbed(outputDiv, spec, embedOpt)\n",
       "        .catch(err => showError(`Javascript Error: ${err.message}<br>This usually means there's a typo in your chart specification. See the javascript console for the full traceback.`));\n",
       "    }\n",
       "\n",
       "    if(typeof define === \"function\" && define.amd) {\n",
       "      requirejs.config({paths});\n",
       "      require([\"vega-embed\"], displayChart, err => showError(`Error loading script: ${err.message}`));\n",
       "    } else {\n",
       "      maybeLoadScript(\"vega\", \"5\")\n",
       "        .then(() => maybeLoadScript(\"vega-lite\", \"4.17.0\"))\n",
       "        .then(() => maybeLoadScript(\"vega-embed\", \"6\"))\n",
       "        .catch(showError)\n",
       "        .then(() => displayChart(vegaEmbed));\n",
       "    }\n",
       "  })({\"config\": {\"view\": {\"continuousWidth\": 400, \"continuousHeight\": 300}}, \"data\": {\"name\": \"data-547436b9116d0b81dfa0ea94ae84441b\"}, \"mark\": \"bar\", \"encoding\": {\"x\": {\"field\": \"genre\", \"sort\": \"-y\", \"title\": \"Genre\", \"type\": \"nominal\"}, \"y\": {\"field\": \"inflation_adjusted_gross\", \"title\": \"Movie Revenue by genre\", \"type\": \"quantitative\"}}, \"height\": 300, \"title\": \"Figure 1: Top 20 Movie Revenue inflation adjusted by genre since 1999\", \"width\": 1000, \"$schema\": \"https://vega.github.io/schema/vega-lite/v4.17.0.json\", \"datasets\": {\"data-547436b9116d0b81dfa0ea94ae84441b\": [{\"genre\": \"Adventure\", \"inflation_adjusted_gross\": 15853055338.0}, {\"genre\": \"Comedy\", \"inflation_adjusted_gross\": 5022958819.0}, {\"genre\": \"Action\", \"inflation_adjusted_gross\": 3507162231.0}, {\"genre\": \"Drama\", \"inflation_adjusted_gross\": 2810345432.0}, {\"genre\": \"Thriller/Suspense\", \"inflation_adjusted_gross\": 1650201771.0}, {\"genre\": \"Romantic Comedy\", \"inflation_adjusted_gross\": 835948971.0}, {\"genre\": \"Musical\", \"inflation_adjusted_gross\": 414011101.0}, {\"genre\": \"Western\", \"inflation_adjusted_gross\": 384944881.0}, {\"genre\": \"Documentary\", \"inflation_adjusted_gross\": 203488418.0}, {\"genre\": \"Concert/Performance\", \"inflation_adjusted_gross\": 114821678.0}]}}, {\"mode\": \"vega-lite\"});\n",
       "</script>"
      ],
      "text/plain": [
       "alt.Chart(...)"
      ]
     },
     "execution_count": 26,
     "metadata": {},
     "output_type": "execute_result"
    }
   ],
   "source": [
    "\n",
    "#plot by genre\n",
    "\n",
    "genre_rev_plot = (\n",
    "    alt.Chart(movie_rev_1999_group[:10], width=1000, height=300)\n",
    "    .mark_bar()\n",
    "    .encode(\n",
    "        x=alt.X(\"genre:N\",sort=\"-y\", title=\"Genre\"),\n",
    "        y=alt.Y(\"inflation_adjusted_gross:Q\", title=\"Movie Revenue by genre\"),\n",
    "    )\n",
    "    .properties(title=\"Figure 1: Top 20 Movie Revenue inflation adjusted by genre since 1999\")\n",
    ")\n",
    "genre_rev_plot"
   ]
  },
  {
   "cell_type": "code",
   "execution_count": null,
   "id": "9774b6aa-bb37-44eb-aab4-f848b6bff07b",
   "metadata": {},
   "outputs": [],
   "source": []
  }
 ],
 "metadata": {
  "kernelspec": {
   "display_name": "Python 3 (ipykernel)",
   "language": "python",
   "name": "python3"
  },
  "language_info": {
   "codemirror_mode": {
    "name": "ipython",
    "version": 3
   },
   "file_extension": ".py",
   "mimetype": "text/x-python",
   "name": "python",
   "nbconvert_exporter": "python",
   "pygments_lexer": "ipython3",
   "version": "3.9.12"
  }
 },
 "nbformat": 4,
 "nbformat_minor": 5
}
