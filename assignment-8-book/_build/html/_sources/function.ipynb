{
 "cells": [
  {
   "cell_type": "markdown",
   "id": "b5c8d2d2-a7da-4591-95ab-9957591162b8",
   "metadata": {},
   "source": [
    "# Function"
   ]
  },
  {
   "cell_type": "code",
   "execution_count": null,
   "id": "dcafb74b-31af-4fce-8a03-016c30166712",
   "metadata": {},
   "outputs": [],
   "source": [
    "#import function\n",
    "from scripts import its_the_final_function as ff"
   ]
  },
  {
   "cell_type": "code",
   "execution_count": null,
   "id": "98aa2541-9a5d-4f8d-9697-dccd95ebdda0",
   "metadata": {},
   "outputs": [],
   "source": [
    "#test function\n",
    "\n",
    "!pytest scripts\\final_test.py"
   ]
  },
  {
   "cell_type": "code",
   "execution_count": null,
   "id": "e6887e61-8f5e-4dbb-aa39-f3da42c24529",
   "metadata": {},
   "outputs": [],
   "source": [
    "#how many disney movies has Kristen Bell appeared in and how much did they gross after inflation on average?\n",
    "kristen_bell = ff.custom_count_mean(movie_rev_actor,'voice-actor', 'Kristen Bell', 'inflation_adjusted_gross')\n",
    "kristen_bell"
   ]
  },
  {
   "cell_type": "code",
   "execution_count": null,
   "id": "5e9941f3-fad5-469e-adeb-39dcbed989d7",
   "metadata": {},
   "outputs": [],
   "source": [
    "#now lets try John Goodman\n",
    "\n",
    "john_goodman = ff.custom_count_mean(movie_rev_actor,'voice-actor', 'John Goodman', 'inflation_adjusted_gross')\n",
    "john_goodman"
   ]
  },
  {
   "cell_type": "markdown",
   "id": "ed2f7efb-821d-4076-8b62-e1f3cd3c907b",
   "metadata": {},
   "source": [
    "To how average revenue by actor compares to the overall average we will need to calcucate the overall average movie revenue for movies released since 1999."
   ]
  },
  {
   "cell_type": "code",
   "execution_count": null,
   "id": "0382b892-02f0-4da6-9374-598f3d330b69",
   "metadata": {},
   "outputs": [],
   "source": [
    "movie_rev_1999 = movie_rev.loc[(movie_rev['release_date'] >= '1999-01-01')]\n",
    "movie_rev_1999.sort_values(by='release_date', ascending=True).head()"
   ]
  },
  {
   "cell_type": "markdown",
   "id": "e4a3c238-2fae-4612-bff7-026f1f515d92",
   "metadata": {},
   "source": [
    "Above I test the function against some helper data to ensure it is returning the correct values"
   ]
  },
  {
   "cell_type": "code",
   "execution_count": null,
   "id": "7c930ef5-78b5-42f3-9547-47fc118230c7",
   "metadata": {},
   "outputs": [],
   "source": [
    "#Find mean movie revenue of movie realeased after 1999-01-01\n",
    "\n",
    "mean_rev_a1999  =movie_rev_1999['inflation_adjusted_gross'].mean()\n",
    "\n",
    "mean_rev_a1999"
   ]
  },
  {
   "cell_type": "markdown",
   "id": "d253e5d5-02c7-47da-b204-8a299a30bc99",
   "metadata": {},
   "source": [
    "Above I test the function against some helper data to ensure it is returning the correct values"
   ]
  },
  {
   "cell_type": "code",
   "execution_count": null,
   "id": "5e40fe9d-12f1-4630-8a0e-3a98677bbb79",
   "metadata": {},
   "outputs": [],
   "source": []
  }
 ],
 "metadata": {
  "kernelspec": {
   "display_name": "Python 3 (ipykernel)",
   "language": "python",
   "name": "python3"
  },
  "language_info": {
   "codemirror_mode": {
    "name": "ipython",
    "version": 3
   },
   "file_extension": ".py",
   "mimetype": "text/x-python",
   "name": "python",
   "nbconvert_exporter": "python",
   "pygments_lexer": "ipython3",
   "version": "3.9.12"
  }
 },
 "nbformat": 4,
 "nbformat_minor": 5
}
