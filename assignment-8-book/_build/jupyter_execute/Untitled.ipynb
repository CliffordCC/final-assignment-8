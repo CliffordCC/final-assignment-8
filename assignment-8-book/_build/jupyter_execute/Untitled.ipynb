{
 "cells": [
  {
   "cell_type": "code",
   "execution_count": 1,
   "id": "dcafb74b-31af-4fce-8a03-016c30166712",
   "metadata": {},
   "outputs": [],
   "source": [
    "#import function\n",
    "from scripts import its_the_final_function as ff"
   ]
  },
  {
   "cell_type": "code",
   "execution_count": 2,
   "id": "98aa2541-9a5d-4f8d-9697-dccd95ebdda0",
   "metadata": {},
   "outputs": [
    {
     "name": "stdout",
     "output_type": "stream",
     "text": [
      "======================================================== test session starts ========================================================\n",
      "platform win32 -- Python 3.9.12, pytest-7.2.0, pluggy-1.0.0\n",
      "rootdir: C:\\Users\\cliff\\final-assignment-8\\assignment-8-book\n",
      "plugins: anyio-3.6.1\n",
      "collected 2 items\n",
      "\n",
      "scripts\\final_test.py ..                                                                                                       [100%]\n",
      "\n",
      "========================================================= 2 passed in 2.19s =========================================================\n"
     ]
    }
   ],
   "source": [
    "#test function\n",
    "\n",
    "!pytest scripts\\final_test.py"
   ]
  },
  {
   "cell_type": "code",
   "execution_count": 3,
   "id": "e6887e61-8f5e-4dbb-aa39-f3da42c24529",
   "metadata": {},
   "outputs": [
    {
     "ename": "NameError",
     "evalue": "name 'movie_rev_actor' is not defined",
     "output_type": "error",
     "traceback": [
      "\u001b[1;31m---------------------------------------------------------------------------\u001b[0m",
      "\u001b[1;31mNameError\u001b[0m                                 Traceback (most recent call last)",
      "Cell \u001b[1;32mIn [3], line 2\u001b[0m\n\u001b[0;32m      1\u001b[0m \u001b[38;5;66;03m#how many disney movies has Kristen Bell appeared in and how much did they gross after inflation on average?\u001b[39;00m\n\u001b[1;32m----> 2\u001b[0m kristen_bell \u001b[38;5;241m=\u001b[39m ff\u001b[38;5;241m.\u001b[39mcustom_count_mean(\u001b[43mmovie_rev_actor\u001b[49m,\u001b[38;5;124m'\u001b[39m\u001b[38;5;124mvoice-actor\u001b[39m\u001b[38;5;124m'\u001b[39m, \u001b[38;5;124m'\u001b[39m\u001b[38;5;124mKristen Bell\u001b[39m\u001b[38;5;124m'\u001b[39m, \u001b[38;5;124m'\u001b[39m\u001b[38;5;124minflation_adjusted_gross\u001b[39m\u001b[38;5;124m'\u001b[39m)\n\u001b[0;32m      3\u001b[0m kristen_bell\n",
      "\u001b[1;31mNameError\u001b[0m: name 'movie_rev_actor' is not defined"
     ]
    }
   ],
   "source": [
    "#how many disney movies has Kristen Bell appeared in and how much did they gross after inflation on average?\n",
    "kristen_bell = ff.custom_count_mean(movie_rev_actor,'voice-actor', 'Kristen Bell', 'inflation_adjusted_gross')\n",
    "kristen_bell"
   ]
  },
  {
   "cell_type": "code",
   "execution_count": null,
   "id": "5e9941f3-fad5-469e-adeb-39dcbed989d7",
   "metadata": {},
   "outputs": [],
   "source": [
    "#now lets try John Goodman\n",
    "\n",
    "john_goodman = ff.custom_count_mean(movie_rev_actor,'voice-actor', 'John Goodman', 'inflation_adjusted_gross')\n",
    "john_goodman"
   ]
  },
  {
   "cell_type": "markdown",
   "id": "ed2f7efb-821d-4076-8b62-e1f3cd3c907b",
   "metadata": {},
   "source": [
    "To how average revenue by actor compares to the overall average we will need to calcucate the overall average movie revenue for movies released since 1999."
   ]
  },
  {
   "cell_type": "code",
   "execution_count": null,
   "id": "0382b892-02f0-4da6-9374-598f3d330b69",
   "metadata": {},
   "outputs": [],
   "source": [
    "movie_rev_1999 = movie_rev.loc[(movie_rev['release_date'] >= '1999-01-01')]\n",
    "movie_rev_1999.sort_values(by='release_date', ascending=True).head()"
   ]
  },
  {
   "cell_type": "markdown",
   "id": "e4a3c238-2fae-4612-bff7-026f1f515d92",
   "metadata": {},
   "source": [
    "Above I test the function against some helper data to ensure it is returning the correct values"
   ]
  },
  {
   "cell_type": "code",
   "execution_count": null,
   "id": "7c930ef5-78b5-42f3-9547-47fc118230c7",
   "metadata": {},
   "outputs": [],
   "source": [
    "#Find mean movie revenue of movie realeased after 1999-01-01\n",
    "\n",
    "mean_rev_a1999  =movie_rev_1999['inflation_adjusted_gross'].mean()\n",
    "\n",
    "mean_rev_a1999"
   ]
  },
  {
   "cell_type": "markdown",
   "id": "d253e5d5-02c7-47da-b204-8a299a30bc99",
   "metadata": {},
   "source": [
    "Above I test the function against some helper data to ensure it is returning the correct values"
   ]
  },
  {
   "cell_type": "code",
   "execution_count": null,
   "id": "5e40fe9d-12f1-4630-8a0e-3a98677bbb79",
   "metadata": {},
   "outputs": [],
   "source": []
  }
 ],
 "metadata": {
  "kernelspec": {
   "display_name": "Python 3 (ipykernel)",
   "language": "python",
   "name": "python3"
  },
  "language_info": {
   "codemirror_mode": {
    "name": "ipython",
    "version": 3
   },
   "file_extension": ".py",
   "mimetype": "text/x-python",
   "name": "python",
   "nbconvert_exporter": "python",
   "pygments_lexer": "ipython3",
   "version": "3.9.12"
  }
 },
 "nbformat": 4,
 "nbformat_minor": 5
}